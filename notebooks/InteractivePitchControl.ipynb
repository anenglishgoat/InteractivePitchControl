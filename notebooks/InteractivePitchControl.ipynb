{
 "cells": [
  {
   "cell_type": "code",
   "execution_count": null,
   "metadata": {},
   "outputs": [],
   "source": [
    "from IPython.core.display import HTML, display\n",
    "\n",
    "display(HTML('https://raw.githubusercontent.com/anenglishgoat/InteractivePitchControl/master/intro_txt.html'))"
   ]
  },
  {
   "cell_type": "code",
   "execution_count": 3,
   "metadata": {},
   "outputs": [],
   "source": [
    "import numpy as np\n",
    "import ipywidgets\n",
    "from bqplot import *\n",
    "import bqplot.pyplot as plt\n",
    "from IPCutils import *"
   ]
  },
  {
   "cell_type": "code",
   "execution_count": 4,
   "metadata": {},
   "outputs": [],
   "source": [
    "xT_values = np.genfromtxt('https://raw.githubusercontent.com/anenglishgoat/InteractivePitchControl/master/xT.csv',delimiter=',')"
   ]
  },
  {
   "cell_type": "code",
   "execution_count": 5,
   "metadata": {},
   "outputs": [],
   "source": [
    "x_start_home = np.array([17.84313725, 57.25490196, 54.50980392, 51.17647059, 66.07843137,\n",
    "       81.76470588, 72.54901961, 73.7254902 , 88.23529412, 85.29411765,\n",
    "       86.07843137])\n",
    "y_start_home = np.array([52.93048163, 81.79306526, 40.51561202, 60.4426571 , 76.4554639 ,\n",
    "       25.21448812, 51.42804328, 63.17076627, 77.87882426, 67.91529901,\n",
    "       48.69993411])\n",
    "x_start_away = np.array([98.43137255, 88.43137255, 86.47058824, 85.88235294, 86.47058824,\n",
    "       87.45098039, 81.76470588, 78.82352941, 58.03921569, 68.82352941,\n",
    "       57.05882353])\n",
    "y_start_away = np.array([49.0557742 , 65.06857828, 53.32585529, 36.60137102, 44.42985302,\n",
    "       70.76202245, 65.06857828, 56.17257601, 41.58313229, 72.18538281,\n",
    "       56.5284161 ])\n",
    "vx_start_home = np.array([18.62745098, 58.82352941, 55.68627451, 52.35294118, 66.8627451 ,\n",
    "       85.29411765, 74.11764706, 75.88235294, 91.37254902, 89.01960784,\n",
    "       90.19607843])\n",
    "vy_start_home = np.array([52.81187008, 80.96277081, 41.2272922 , 60.32404555, 76.81130399,\n",
    "       28.41704894, 49.64884283, 62.103246  , 76.09962381, 66.49193593,\n",
    "       42.29481248])\n",
    "vx_start_away = np.array([98.43137255, 90.58823529, 90.        , 88.43137255, 88.43137255,\n",
    "       90.98039216, 83.92156863, 81.37254902, 58.23529412, 69.60784314,\n",
    "       56.07843137])\n",
    "vy_start_away = np.array([45.85321338, 61.51017737, 49.41161429, 37.6688913 , 43.00649266,\n",
    "       70.05034226, 64.71273819, 54.39337556, 41.93897238, 72.18538281,\n",
    "       57.47732482])"
   ]
  },
  {
   "cell_type": "code",
   "execution_count": 6,
   "metadata": {},
   "outputs": [],
   "source": [
    "def update_hmap(change=None):\n",
    "    global X_new\n",
    "    with hmap.hold_sync():\n",
    "\n",
    "        scat_v_home.y, scat_v_home.x = scat_home.y + v_home_y, scat_home.x + v_home_x\n",
    "        scat_v_away.y, scat_v_away.x = scat_away.y + v_away_y, scat_away.x + v_away_x\n",
    "\n",
    "        lines_v_home.x, lines_v_home.y = np.vstack([scat_home.x, scat_home.x + v_home_x]).T, np.vstack(\n",
    "            [scat_home.y, scat_home.y + v_home_y]).T\n",
    "        lines_v_away.x, lines_v_away.y = np.vstack([scat_away.x, scat_away.x + v_away_x]).T, np.vstack(\n",
    "            [scat_away.y, scat_away.y + v_away_y]).T\n",
    "\n",
    "        home_pos = np.c_[scat_home.x, scat_home.y] * np.array([105 / 100, 68 / 100])\n",
    "        away_pos = np.c_[scat_away.x, scat_away.y] * np.array([105 / 100, 68 / 100])\n",
    "        home_v = np.c_[v_home_x, v_home_y] * np.array([105 / 100, 68 / 100])\n",
    "        away_v = np.c_[v_away_x, v_away_y] * np.array([105 / 100, 68 / 100])\n",
    "        ball_pos = np.c_[scat_ball.x, scat_ball.y] * np.array([105 / 100, 68 / 100])\n",
    "        if class_buttons.value == 'Spearman':\n",
    "            home_pos = home_pos[:, None, None, :]\n",
    "            away_pos = away_pos[:, None, None, :]\n",
    "            home_v = home_v[:, None, None, :]\n",
    "            away_v = away_v[:, None, None, :]\n",
    "            X_new = get_pitch_control(tensor(home_pos),\n",
    "                                      tensor(away_pos),\n",
    "                                      tensor(home_v),\n",
    "                                      tensor(away_v),\n",
    "                                      tensor(ball_pos),\n",
    "                                      tensor(targets),\n",
    "                                      xx,\n",
    "                                      yy,\n",
    "                                      ti,\n",
    "                                      wi,\n",
    "                                      xT_values,\n",
    "                                      class_buttons_transition.value,\n",
    "                                      class_buttons_value.value)\n",
    "        elif class_buttons.value == 'Fernandez':\n",
    "            X_new = get_pitch_control_fernandez(home_pos,\n",
    "                                                away_pos,\n",
    "                                                home_v,\n",
    "                                                away_v,\n",
    "                                                ball_pos,\n",
    "                                                targets,\n",
    "                                                xx,\n",
    "                                                yy,\n",
    "                                                xT_values,\n",
    "                                                class_buttons_transition.value,\n",
    "                                                class_buttons_value.value)\n",
    "        else:\n",
    "            X_new = get_pitch_control_fernandez_modified(home_pos,\n",
    "                                                         away_pos,\n",
    "                                                         home_v,\n",
    "                                                         away_v,\n",
    "                                                         ball_pos,\n",
    "                                                         targets,\n",
    "                                                         xx,\n",
    "                                                         yy,\n",
    "                                                         xT_values,\n",
    "                                                         class_buttons_transition.value,\n",
    "                                                         class_buttons_value.value)\n",
    "\n",
    "        contours_x, contours_y, levels = get_contours(X_new, xx, yy)\n",
    "        l = np.concatenate(levels)\n",
    "        l /= np.max(l)\n",
    "        cols = (cm(l)[:, :3] * 255) * 0.8 + 25.5\n",
    "        hmap.fill_colors = ['rgb(' + str(int(c[0])) + ',' + str(int(c[1])) + ',' + str(int(c[2])) + ')' for c in cols]\n",
    "        hmap.x = contours_x\n",
    "        hmap.y = contours_y\n",
    "\n",
    "\n",
    "def update_v_markers_angle_home(change=None):\n",
    "    # with scat_v_home.hold_sync():\n",
    "    global v_home_x, v_home_y\n",
    "    v_home_y = scat_v_home.y - scat_home.y\n",
    "    v_home_x = scat_v_home.x - scat_home.x\n",
    "    lines_v_home.x, lines_v_home.y = np.vstack([scat_home.x, scat_home.x + v_home_x]).T, np.vstack(\n",
    "        [scat_home.y, scat_home.y + v_home_y]).T\n",
    "    scat_v_home.rotation = [np.degrees(np.arctan2(-yyy, xxx)) + 90. for yyy, xxx in zip(v_home_y, v_home_x)]\n",
    "\n",
    "\n",
    "def update_v_markers_angle_away(change=None):\n",
    "    # with scat_v_home.hold_sync():\n",
    "    global v_away_x, v_away_y\n",
    "    v_away_y = scat_v_away.y - scat_away.y\n",
    "    v_away_x = scat_v_away.x - scat_away.x\n",
    "    lines_v_away.x, lines_v_away.y = np.vstack([scat_away.x, scat_away.x + v_away_x]).T, np.vstack(\n",
    "        [scat_away.y, scat_away.y + v_away_y]).T\n",
    "    scat_v_away.rotation = [np.degrees(np.arctan2(-yyy, xxx)) + 90. for yyy, xxx in zip(v_away_y, v_away_x)]"
   ]
  },
  {
   "cell_type": "code",
   "execution_count": 7,
   "metadata": {},
   "outputs": [
    {
     "data": {
      "application/vnd.jupyter.widget-view+json": {
       "model_id": "4a9255c952a242869813ca7cc24681a2",
       "version_major": 2,
       "version_minor": 0
      },
      "text/plain": [
       "ToggleButtons(description='Pitch control model:', options=('Spearman', 'Fernandez', 'Modified Fernandez'), sty…"
      ]
     },
     "metadata": {},
     "output_type": "display_data"
    },
    {
     "data": {
      "application/vnd.jupyter.widget-view+json": {
       "model_id": "a2bea6696e7542879ebcf0c72848c39d",
       "version_major": 2,
       "version_minor": 0
      },
      "text/plain": [
       "ToggleButtons(description='Use transition model (for red team):', options=('No', 'Yes'), style=ToggleButtonsSt…"
      ]
     },
     "metadata": {},
     "output_type": "display_data"
    },
    {
     "data": {
      "application/vnd.jupyter.widget-view+json": {
       "model_id": "53c3adcd8ef84e7abb60999fe4901c6b",
       "version_major": 2,
       "version_minor": 0
      },
      "text/plain": [
       "ToggleButtons(description='Use scoring model (for red team):', options=('No', 'Yes'), style=ToggleButtonsStyle…"
      ]
     },
     "metadata": {},
     "output_type": "display_data"
    }
   ],
   "source": [
    "style = {'description_width': 'auto'}\n",
    "\n",
    "# Create ToggleButtons\n",
    "class_buttons = widgets.ToggleButtons(\n",
    "    options=['Spearman', 'Fernandez', 'Modified Fernandez'],\n",
    "    description='Pitch control model:',\n",
    "    style = style)\n",
    "display(class_buttons)\n",
    "\n",
    "class_buttons_transition = widgets.ToggleButtons(\n",
    "    options=['No', 'Yes'],\n",
    "    description='Use transition model (for red team):',\n",
    "    style=style)\n",
    "display(class_buttons_transition)\n",
    "\n",
    "class_buttons_value = widgets.ToggleButtons(\n",
    "    options=['No', 'Yes'],\n",
    "    description='Use scoring model (for red team):',\n",
    "    style=style)\n",
    "display(class_buttons_value)\n",
    "\n",
    "class_buttons.observe(update_hmap, 'value')\n",
    "class_buttons_transition.observe(update_hmap, 'value')\n",
    "class_buttons_value.observe(update_hmap, 'value')\n"
   ]
  },
  {
   "cell_type": "code",
   "execution_count": 8,
   "metadata": {
    "jupyter": {
     "source_hidden": true
    }
   },
   "outputs": [
    {
     "data": {
      "application/vnd.jupyter.widget-view+json": {
       "model_id": "26469b9c3a9c47679f7f3a13a491bbe3",
       "version_major": 2,
       "version_minor": 0
      },
      "text/plain": [
       "Figure(axes=[Axis(scale=LinearScale(), visible=False), Axis(orientation='vertical', scale=LinearScale(), visib…"
      ]
     },
     "metadata": {},
     "output_type": "display_data"
    }
   ],
   "source": [
    "fig = plt.figure()\n",
    "fig.min_aspect_ratio = 105/(68+6.8+5)\n",
    "fig.max_aspect_ratio = 105/(68+6.8+5)\n",
    "plt.plot([[0,0],\n",
    "         [0,100],\n",
    "         [100,100],\n",
    "         [100,0]],\n",
    "         \n",
    "         [[0,100],\n",
    "         [0,0],\n",
    "         [0,100],\n",
    "         [100,100]],         \n",
    "         colors=['black'],stroke_width = 1,\n",
    "         axes_options={'x': {'visible': False}, 'y': {'visible': False}})\n",
    "plt.scatter([25,35,50,70],\n",
    "            [105,105,105,105],\n",
    "           colors = ['white'],\n",
    "           stroke = 'orange')\n",
    "plt.plot([[25,26],[35,37],[50,57],[70,82]],\n",
    "         [[105,105],[105,105],[105,105],[105,105]],\n",
    "         colors = ['black'],\n",
    "         stroke_width = 1.)\n",
    "plt.scatter([26,37,57,82],\n",
    "            [105,105,105,105],\n",
    "            colors = ['black'],\n",
    "            default_size = 4,\n",
    "            stroke_width = 1.,\n",
    "            marker = 'triangle-up',\n",
    "            scales={'rotation': LinearScale(min=0, max=180)},\n",
    "            rotation = [90.] * 4)\n",
    "\n",
    "plt.label(['Velocity guide:','Walk','Jog','Sprint','Usain Bolt'],\n",
    "            x=[1,22.5,33,49,69],\n",
    "            y=[108,110,110,110,110],\n",
    "           colors = ['black'],\n",
    "         default_size = 12)\n",
    "fig"
   ]
  },
  {
   "cell_type": "code",
   "execution_count": 9,
   "metadata": {},
   "outputs": [],
   "source": [
    "xx = np.linspace(0,100,50)\n",
    "yy = np.linspace(0,100,50)\n",
    "XX,YY = np.meshgrid(xx,yy)\n",
    "targets = np.dstack((XX,YY))\n",
    "del XX,YY\n",
    "targets = targets * np.array([105/100,68/100])\n",
    "\n",
    "ti, wi = np.polynomial.legendre.leggauss(50)\n",
    "ti = tensor(ti)\n",
    "wi = tensor(wi)\n",
    "\n",
    "cm=plt2.get_cmap('bwr')\n",
    "\n",
    "home_pos = np.c_[x_start_home,y_start_home] * np.array([105/100,68/100])\n",
    "away_pos = np.c_[x_start_away,y_start_away] * np.array([105/100,68/100])\n",
    "home_v = np.c_[vx_start_home,vy_start_home] * np.array([105/100,68/100])\n",
    "away_v = np.c_[vx_start_away,vy_start_away] * np.array([105/100,68/100])\n",
    "ball_pos = np.array([50.,50.]) * np.array([105/100,68/100])\n",
    "\n",
    "hmap = plt.plot([],[],\n",
    "                 fill='inside',\n",
    "                 axes_options={'x': {'visible': False}, 'y': {'visible': False}},\n",
    "                 stroke_width=0,\n",
    "                 close_path=False,\n",
    "                 display_legend=False)\n",
    "\n",
    "plt.ylim(0,110)\n",
    "plt.xlim(0,100)\n",
    "\n",
    "scat_home = plt.scatter(x_start_home, y_start_home, colors = ['white'],stroke='orange', enable_move=True)\n",
    "scat_away = plt.scatter(x_start_away, y_start_away, colors=['white'],stroke='blue', enable_move=True)\n",
    "scat_ball = plt.scatter([67.84313725], [77.24621935], colors=['white'], enable_move=True,stroke='black')\n",
    "\n",
    "scat_v_home = plt.scatter(vx_start_home, vy_start_home, colors=['black'], enable_move=True,\n",
    "                          marker = 'triangle-up',\n",
    "                         default_size = 4,\n",
    "                          scales={'rotation': LinearScale(min=0, max=180)},\n",
    "                         rotation = [90.]*len(scat_home.x))\n",
    "scat_v_away = plt.scatter(vx_start_away, vy_start_away, colors=['black'], enable_move=True,\n",
    "                          marker='triangle-up',\n",
    "                         default_size = 4,\n",
    "                          scales={'rotation': LinearScale(min=0, max=180)},\n",
    "                         rotation = [-90.]*len(scat_home.x))\n",
    "\n",
    "lines_v_home = plt.plot(np.vstack([x_start_home,vx_start_home]).T,\n",
    "                        np.vstack([y_start_home,vy_start_home]).T,\n",
    "                        colors = ['black'],\n",
    "                       stroke_width = 1.)\n",
    "\n",
    "lines_v_away = plt.plot(np.vstack([x_start_away,vx_start_away]).T,\n",
    "                        np.vstack([y_start_away,vy_start_away]).T,\n",
    "                        colors = ['black'],\n",
    "                       stroke_width = 1.)\n",
    "\n",
    "plt.plot([[50,50],\n",
    "         [0,16.5/105*100],\n",
    "         [0,16.5/105*100],\n",
    "         [100,100 - 16.5/105*100],\n",
    "         [100,100 - 16.5/105*100],\n",
    "         [16.5/105*100,16.5/105*100],\n",
    "         [100-16.5/105*100,100 - 16.5/105*100],\n",
    "         [0,5.5/105*100],\n",
    "         [0,5.5/105*100],\n",
    "         [100,100 - 5.5/105*100],\n",
    "         [100,100 - 5.5/105*100],\n",
    "         [5.5/105*100,5.5/105*100],\n",
    "         [100-5.5/105*100,100 - 5.5/105*100]],\n",
    "         \n",
    "         [[0,100],\n",
    "         [50-20/68*100,50-20/68*100],\n",
    "         [50+20/68*100,50+20/68*100],\n",
    "         [50-20/68*100,50-20/68*100],\n",
    "         [50+20/68*100,50+20/68*100],\n",
    "         [50-20/68*100,50+20/68*100],\n",
    "         [50-20/68*100,50+20/68*100],\n",
    "         [50-9/68*100,50-9/68*100],\n",
    "         [50+9/68*100,50+9/68*100],\n",
    "         [50-9/68*100,50-9/68*100],\n",
    "         [50+9/68*100,50+9/68*100],\n",
    "         [50-9/68*100,50+9/68*100],\n",
    "         [50-9/68*100,50+9/68*100]],\n",
    "         \n",
    "         colors=['black'],stroke_width = 1)\n",
    "\n",
    "plt.plot(50 + 9.15/105*100 * np.sin(np.linspace(0,2*np.pi,500)),\n",
    "         50 + 9.15/68*100 * np.cos(np.linspace(0,2*np.pi,500)),\n",
    "         colors=['black'],stroke_width = 1)\n",
    "\n",
    "v_home_x = vx_start_home - x_start_home\n",
    "v_home_y = vy_start_home - y_start_home\n",
    "\n",
    "v_away_x = vx_start_away - x_start_away\n",
    "v_away_y = vy_start_away - y_start_away\n",
    "                \n",
    "update_hmap()    \n",
    "        \n",
    "\n",
    "# update line on change of x or y of scatter\n",
    "scat_v_home.observe(update_v_markers_angle_home, ['x','y'])\n",
    "scat_v_away.observe(update_v_markers_angle_away, ['x','y'])\n",
    "scat_home.observe(update_hmap, names=['x','y'])\n",
    "scat_v_home.observe(update_hmap, ['x','y'])\n",
    "scat_away.observe(update_hmap, names=['x','y'])\n",
    "scat_v_away.observe(update_hmap, ['x','y'])\n",
    "scat_ball.observe(update_hmap, names=['x','y'])"
   ]
  },
  {
   "cell_type": "code",
   "execution_count": 10,
   "metadata": {},
   "outputs": [
    {
     "data": {
      "application/vnd.jupyter.widget-view+json": {
       "model_id": "c36ce1ea08c04ae4aaed77941fcc38b5",
       "version_major": 2,
       "version_minor": 0
      },
      "text/plain": [
       "Button(description='Get red team control', style=ButtonStyle())"
      ]
     },
     "metadata": {},
     "output_type": "display_data"
    },
    {
     "data": {
      "application/vnd.jupyter.widget-view+json": {
       "model_id": "e776dd3b74d64a2998bcb390db01dfc9",
       "version_major": 2,
       "version_minor": 0
      },
      "text/plain": [
       "Output()"
      ]
     },
     "metadata": {},
     "output_type": "display_data"
    }
   ],
   "source": [
    "from IPython.display import display, clear_output\n",
    "button = widgets.Button(description=\"Get red team control\")\n",
    "output = widgets.Output()\n",
    "\n",
    "display(button, output)\n",
    "\n",
    "def on_button_clicked(b):\n",
    "    with output:\n",
    "        clear_output(wait=True)\n",
    "        print(get_pitch_control_proportion(X_new))\n",
    "\n",
    "button.on_click(on_button_clicked)"
   ]
  },
  {
   "cell_type": "code",
   "execution_count": null,
   "metadata": {},
   "outputs": [],
   "source": [
    "save_button = widgets.Button(description=\"Save PNG\")\n",
    "def on_save_button_clicked(b):\n",
    "    fig.save_png('PC_img.png')"
   ]
  }
 ],
 "metadata": {
  "kernelspec": {
   "display_name": "Python 3",
   "language": "python",
   "name": "python3"
  },
  "language_info": {
   "codemirror_mode": {
    "name": "ipython",
    "version": 3
   },
   "file_extension": ".py",
   "mimetype": "text/x-python",
   "name": "python",
   "nbconvert_exporter": "python",
   "pygments_lexer": "ipython3",
   "version": "3.7.6"
  }
 },
 "nbformat": 4,
 "nbformat_minor": 4
}